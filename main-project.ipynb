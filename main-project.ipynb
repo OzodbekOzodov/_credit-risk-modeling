{
 "cells": [
  {
   "attachments": {},
   "cell_type": "markdown",
   "metadata": {},
   "source": [
    "# Credit Risk Modeling Using Python\n",
    "## Based on online course from 365DataScience"
   ]
  },
  {
   "cell_type": "code",
   "execution_count": 2,
   "metadata": {},
   "outputs": [],
   "source": [
    "#import relevant libraries\n",
    "\n",
    "import sklearn\n",
    "import pandas as pd\n",
    "import numpy as np\n",
    "import seaborn as sns\n",
    "import matplotlib.pyplot as plt\n",
    "import os "
   ]
  },
  {
   "cell_type": "code",
   "execution_count": null,
   "metadata": {},
   "outputs": [],
   "source": []
  },
  {
   "cell_type": "code",
   "execution_count": 3,
   "metadata": {},
   "outputs": [],
   "source": [
    "#import the datasets\n",
    "\n",
    "#first dataset contains the backup storage for the data, this will not be changed throughout the project, but only kept as backup in case of errors\n",
    "loan_data1 = pd.read_csv(\"data/3.1 loan_data_2007_2014 - 1.csv\")\n",
    "\n"
   ]
  },
  {
   "cell_type": "code",
   "execution_count": 4,
   "metadata": {},
   "outputs": [
    {
     "name": "stderr",
     "output_type": "stream",
     "text": [
      "C:\\Users\\user\\AppData\\Local\\Temp\\ipykernel_11572\\2830868825.py:1: DtypeWarning: Columns (20) have mixed types. Specify dtype option on import or set low_memory=False.\n",
      "  loan_data2 = pd.read_csv(\"data/3.1 loan_data_2007_2014 - 2.csv\")\n"
     ]
    }
   ],
   "source": [
    "loan_data2 = pd.read_csv(\"data/3.1 loan_data_2007_2014 - 2.csv\")\n"
   ]
  },
  {
   "cell_type": "code",
   "execution_count": 5,
   "metadata": {},
   "outputs": [
    {
     "name": "stderr",
     "output_type": "stream",
     "text": [
      "C:\\Users\\user\\AppData\\Local\\Temp\\ipykernel_11572\\3320454629.py:1: DtypeWarning: Columns (20) have mixed types. Specify dtype option on import or set low_memory=False.\n",
      "  loan_data3 = pd.read_csv(\"data/3.1 loan_data_2007_2014 - 3.csv\",encoding = 'unicode_escape')\n"
     ]
    }
   ],
   "source": [
    "loan_data3 = pd.read_csv(\"data/3.1 loan_data_2007_2014 - 3.csv\",encoding = 'unicode_escape')"
   ]
  },
  {
   "cell_type": "code",
   "execution_count": 26,
   "metadata": {},
   "outputs": [],
   "source": [
    "# concatenate these three files to one \n",
    "loan_data = pd.concat([loan_data1, loan_data2, loan_data3])\n",
    "pd.options.display.max_rows = 50\n",
    "pd.options.display.max_columns = None"
   ]
  },
  {
   "cell_type": "code",
   "execution_count": 7,
   "metadata": {},
   "outputs": [
    {
     "name": "stdout",
     "output_type": "stream",
     "text": [
      "<class 'pandas.core.frame.DataFrame'>\n",
      "Int64Index: 466281 entries, 0 to 173353\n",
      "Data columns (total 75 columns):\n",
      " #   Column                       Non-Null Count   Dtype  \n",
      "---  ------                       --------------   -----  \n",
      " 0   Unnamed: 0                   466281 non-null  int64  \n",
      " 1   id                           466281 non-null  int64  \n",
      " 2   member_id                    466281 non-null  int64  \n",
      " 3   loan_amnt                    466281 non-null  int64  \n",
      " 4   funded_amnt                  466281 non-null  int64  \n",
      " 5   funded_amnt_inv              466281 non-null  float64\n",
      " 6   term                         466281 non-null  object \n",
      " 7   int_rate                     466281 non-null  float64\n",
      " 8   installment                  466281 non-null  float64\n",
      " 9   grade                        466281 non-null  object \n",
      " 10  sub_grade                    466281 non-null  object \n",
      " 11  emp_title                    438693 non-null  object \n",
      " 12  emp_length                   445273 non-null  object \n",
      " 13  home_ownership               466281 non-null  object \n",
      " 14  annual_inc                   466277 non-null  float64\n",
      " 15  verification_status          466281 non-null  object \n",
      " 16  issue_d                      466281 non-null  object \n",
      " 17  loan_status                  466281 non-null  object \n",
      " 18  pymnt_plan                   466281 non-null  object \n",
      " 19  url                          466281 non-null  object \n",
      " 20  desc                         125983 non-null  object \n",
      " 21  purpose                      466281 non-null  object \n",
      " 22  title                        466261 non-null  object \n",
      " 23  zip_code                     466281 non-null  object \n",
      " 24  addr_state                   466281 non-null  object \n",
      " 25  dti                          466281 non-null  float64\n",
      " 26  delinq_2yrs                  466252 non-null  float64\n",
      " 27  earliest_cr_line             466252 non-null  object \n",
      " 28  inq_last_6mths               466252 non-null  float64\n",
      " 29  mths_since_last_delinq       215932 non-null  float64\n",
      " 30  mths_since_last_record       62638 non-null   float64\n",
      " 31  open_acc                     466252 non-null  float64\n",
      " 32  pub_rec                      466252 non-null  float64\n",
      " 33  revol_bal                    466281 non-null  int64  \n",
      " 34  revol_util                   465941 non-null  float64\n",
      " 35  total_acc                    466252 non-null  float64\n",
      " 36  initial_list_status          466281 non-null  object \n",
      " 37  out_prncp                    466281 non-null  float64\n",
      " 38  out_prncp_inv                466281 non-null  float64\n",
      " 39  total_pymnt                  466281 non-null  float64\n",
      " 40  total_pymnt_inv              466281 non-null  float64\n",
      " 41  total_rec_prncp              466281 non-null  float64\n",
      " 42  total_rec_int                466281 non-null  float64\n",
      " 43  total_rec_late_fee           466281 non-null  float64\n",
      " 44  recoveries                   466281 non-null  float64\n",
      " 45  collection_recovery_fee      466281 non-null  float64\n",
      " 46  last_pymnt_d                 465905 non-null  object \n",
      " 47  last_pymnt_amnt              466281 non-null  float64\n",
      " 48  next_pymnt_d                 239069 non-null  object \n",
      " 49  last_credit_pull_d           466239 non-null  object \n",
      " 50  collections_12_mths_ex_med   466136 non-null  float64\n",
      " 51  mths_since_last_major_derog  98974 non-null   float64\n",
      " 52  policy_code                  466281 non-null  int64  \n",
      " 53  application_type             466281 non-null  object \n",
      " 54  annual_inc_joint             0 non-null       float64\n",
      " 55  dti_joint                    0 non-null       float64\n",
      " 56  verification_status_joint    0 non-null       float64\n",
      " 57  acc_now_delinq               466252 non-null  float64\n",
      " 58  tot_coll_amt                 396005 non-null  float64\n",
      " 59  tot_cur_bal                  396005 non-null  float64\n",
      " 60  open_acc_6m                  0 non-null       float64\n",
      " 61  open_il_6m                   0 non-null       float64\n",
      " 62  open_il_12m                  0 non-null       float64\n",
      " 63  open_il_24m                  0 non-null       float64\n",
      " 64  mths_since_rcnt_il           0 non-null       float64\n",
      " 65  total_bal_il                 0 non-null       float64\n",
      " 66  il_util                      0 non-null       float64\n",
      " 67  open_rv_12m                  0 non-null       float64\n",
      " 68  open_rv_24m                  0 non-null       float64\n",
      " 69  max_bal_bc                   0 non-null       float64\n",
      " 70  all_util                     0 non-null       float64\n",
      " 71  total_rev_hi_lim             222651 non-null  float64\n",
      " 72  inq_fi                       0 non-null       float64\n",
      " 73  total_cu_tl                  0 non-null       float64\n",
      " 74  inq_last_12m                 0 non-null       float64\n",
      "dtypes: float64(46), int64(7), object(22)\n",
      "memory usage: 270.4+ MB\n"
     ]
    }
   ],
   "source": [
    "loan_data\n",
    "loan_data.info()"
   ]
  },
  {
   "cell_type": "code",
   "execution_count": 8,
   "metadata": {},
   "outputs": [
    {
     "name": "stderr",
     "output_type": "stream",
     "text": [
      "C:\\Users\\user\\AppData\\Local\\Temp\\ipykernel_11572\\4143095900.py:5: FutureWarning: The default value of regex will change from True to False in a future version.\n",
      "  loan_data[\"emp_length_int\"] = loan_data[\"emp_length\"].str.replace(\"\\+ years\", '')\n"
     ]
    },
    {
     "data": {
      "text/plain": [
       "pandas.core.series.Series"
      ]
     },
     "execution_count": 8,
     "metadata": {},
     "output_type": "execute_result"
    }
   ],
   "source": [
    "# preprocessing the continuous variables\n",
    "\n",
    "# delete the \"year\" or \"years\" from employement length variable\n",
    "loan_data['emp_length'].unique()\n",
    "loan_data[\"emp_length_int\"] = loan_data[\"emp_length\"].str.replace(\"\\+ years\", '')\n",
    "loan_data['emp_length_int'] = loan_data['emp_length_int'].str.replace('< 1 year', str(0))\n",
    "loan_data['emp_length_int'] = loan_data['emp_length_int'].str.replace('n/a', str(0))\n",
    "loan_data['emp_length_int'] = loan_data['emp_length_int'].str.replace(' years', '')\n",
    "loan_data['emp_length_int'] = loan_data['emp_length_int'].str.replace(' year', '')\n",
    "\n",
    "# transform the string into numeric\n",
    "loan_data[\"emp_length_int\"] = pd.to_numeric(loan_data[\"emp_length_int\"])\n",
    "\n",
    "# double check if the new variable is of a numeric type\n",
    "type(loan_data[\"emp_length_int\"][0])"
   ]
  },
  {
   "cell_type": "code",
   "execution_count": 9,
   "metadata": {},
   "outputs": [
    {
     "data": {
      "text/plain": [
       "array([36, 60], dtype=int64)"
      ]
     },
     "execution_count": 9,
     "metadata": {},
     "output_type": "execute_result"
    }
   ],
   "source": [
    "# transfor the term variable into numeric using the same steps as above\n",
    "loan_data[\"term\"].unique()\n",
    "loan_data[\"term_int\"] = loan_data[\"term\"].str.replace(\" months\", \"\")\n",
    "loan_data[\"term_int\"] = pd.to_numeric(loan_data[\"term_int\"])\n",
    "loan_data[\"term_int\"].unique()"
   ]
  },
  {
   "cell_type": "code",
   "execution_count": 14,
   "metadata": {},
   "outputs": [
    {
     "data": {
      "text/plain": [
       "count    466252.000000\n",
       "mean        300.482201\n",
       "std          93.974981\n",
       "min        -551.000000\n",
       "25%         244.000000\n",
       "50%         286.000000\n",
       "75%         346.000000\n",
       "max         648.000000\n",
       "Name: month_passed, dtype: float64"
      ]
     },
     "execution_count": 14,
     "metadata": {},
     "output_type": "execute_result"
    }
   ],
   "source": [
    "#transform the string variable indicating date time\n",
    "loan_data['earliest_date'] = pd.to_datetime(loan_data['earliest_cr_line'], format = \"%b-%y\")\n",
    "loan_data['days_passed'] = pd.to_datetime('2022-12-31') - loan_data['earliest_date']\n",
    "loan_data['month_passed'] = round(pd.to_numeric((pd.to_datetime('2022-12-31')-loan_data['earliest_date'])/np.timedelta64(1, 'M')))\n",
    "loan_data['month_passed'].describe()"
   ]
  },
  {
   "cell_type": "code",
   "execution_count": 15,
   "metadata": {},
   "outputs": [
    {
     "data": {
      "text/html": [
       "<div>\n",
       "<style scoped>\n",
       "    .dataframe tbody tr th:only-of-type {\n",
       "        vertical-align: middle;\n",
       "    }\n",
       "\n",
       "    .dataframe tbody tr th {\n",
       "        vertical-align: top;\n",
       "    }\n",
       "\n",
       "    .dataframe thead th {\n",
       "        text-align: right;\n",
       "    }\n",
       "</style>\n",
       "<table border=\"1\" class=\"dataframe\">\n",
       "  <thead>\n",
       "    <tr style=\"text-align: right;\">\n",
       "      <th></th>\n",
       "      <th>Unnamed: 0</th>\n",
       "      <th>id</th>\n",
       "      <th>member_id</th>\n",
       "      <th>loan_amnt</th>\n",
       "      <th>funded_amnt</th>\n",
       "      <th>funded_amnt_inv</th>\n",
       "      <th>term</th>\n",
       "      <th>int_rate</th>\n",
       "      <th>installment</th>\n",
       "      <th>grade</th>\n",
       "      <th>...</th>\n",
       "      <th>all_util</th>\n",
       "      <th>total_rev_hi_lim</th>\n",
       "      <th>inq_fi</th>\n",
       "      <th>total_cu_tl</th>\n",
       "      <th>inq_last_12m</th>\n",
       "      <th>emp_length_int</th>\n",
       "      <th>term_int</th>\n",
       "      <th>earliest_date</th>\n",
       "      <th>days_passed</th>\n",
       "      <th>month_passed</th>\n",
       "    </tr>\n",
       "  </thead>\n",
       "  <tbody>\n",
       "    <tr>\n",
       "      <th>1580</th>\n",
       "      <td>1580</td>\n",
       "      <td>1048395</td>\n",
       "      <td>1279722</td>\n",
       "      <td>21000</td>\n",
       "      <td>21000</td>\n",
       "      <td>20875.0</td>\n",
       "      <td>36 months</td>\n",
       "      <td>7.51</td>\n",
       "      <td>653.33</td>\n",
       "      <td>A</td>\n",
       "      <td>...</td>\n",
       "      <td>NaN</td>\n",
       "      <td>NaN</td>\n",
       "      <td>NaN</td>\n",
       "      <td>NaN</td>\n",
       "      <td>NaN</td>\n",
       "      <td>NaN</td>\n",
       "      <td>36</td>\n",
       "      <td>2062-09-01</td>\n",
       "      <td>-14489 days</td>\n",
       "      <td>-476.0</td>\n",
       "    </tr>\n",
       "    <tr>\n",
       "      <th>1770</th>\n",
       "      <td>1770</td>\n",
       "      <td>1042802</td>\n",
       "      <td>1272895</td>\n",
       "      <td>5500</td>\n",
       "      <td>5500</td>\n",
       "      <td>5500.0</td>\n",
       "      <td>36 months</td>\n",
       "      <td>7.51</td>\n",
       "      <td>171.11</td>\n",
       "      <td>A</td>\n",
       "      <td>...</td>\n",
       "      <td>NaN</td>\n",
       "      <td>NaN</td>\n",
       "      <td>NaN</td>\n",
       "      <td>NaN</td>\n",
       "      <td>NaN</td>\n",
       "      <td>4.0</td>\n",
       "      <td>36</td>\n",
       "      <td>2068-09-01</td>\n",
       "      <td>-16681 days</td>\n",
       "      <td>-548.0</td>\n",
       "    </tr>\n",
       "    <tr>\n",
       "      <th>2799</th>\n",
       "      <td>2799</td>\n",
       "      <td>1031659</td>\n",
       "      <td>1249389</td>\n",
       "      <td>5200</td>\n",
       "      <td>5200</td>\n",
       "      <td>5200.0</td>\n",
       "      <td>60 months</td>\n",
       "      <td>8.90</td>\n",
       "      <td>107.70</td>\n",
       "      <td>A</td>\n",
       "      <td>...</td>\n",
       "      <td>NaN</td>\n",
       "      <td>NaN</td>\n",
       "      <td>NaN</td>\n",
       "      <td>NaN</td>\n",
       "      <td>NaN</td>\n",
       "      <td>NaN</td>\n",
       "      <td>60</td>\n",
       "      <td>2064-09-01</td>\n",
       "      <td>-15220 days</td>\n",
       "      <td>-500.0</td>\n",
       "    </tr>\n",
       "    <tr>\n",
       "      <th>3282</th>\n",
       "      <td>3282</td>\n",
       "      <td>1021976</td>\n",
       "      <td>1250746</td>\n",
       "      <td>5000</td>\n",
       "      <td>5000</td>\n",
       "      <td>5000.0</td>\n",
       "      <td>36 months</td>\n",
       "      <td>12.69</td>\n",
       "      <td>167.73</td>\n",
       "      <td>B</td>\n",
       "      <td>...</td>\n",
       "      <td>NaN</td>\n",
       "      <td>NaN</td>\n",
       "      <td>NaN</td>\n",
       "      <td>NaN</td>\n",
       "      <td>NaN</td>\n",
       "      <td>10.0</td>\n",
       "      <td>36</td>\n",
       "      <td>2067-09-01</td>\n",
       "      <td>-16315 days</td>\n",
       "      <td>-536.0</td>\n",
       "    </tr>\n",
       "    <tr>\n",
       "      <th>3359</th>\n",
       "      <td>3359</td>\n",
       "      <td>1013619</td>\n",
       "      <td>1240971</td>\n",
       "      <td>21000</td>\n",
       "      <td>21000</td>\n",
       "      <td>21000.0</td>\n",
       "      <td>36 months</td>\n",
       "      <td>12.69</td>\n",
       "      <td>704.45</td>\n",
       "      <td>B</td>\n",
       "      <td>...</td>\n",
       "      <td>NaN</td>\n",
       "      <td>NaN</td>\n",
       "      <td>NaN</td>\n",
       "      <td>NaN</td>\n",
       "      <td>NaN</td>\n",
       "      <td>10.0</td>\n",
       "      <td>36</td>\n",
       "      <td>2065-02-01</td>\n",
       "      <td>-15373 days</td>\n",
       "      <td>-505.0</td>\n",
       "    </tr>\n",
       "    <tr>\n",
       "      <th>...</th>\n",
       "      <td>...</td>\n",
       "      <td>...</td>\n",
       "      <td>...</td>\n",
       "      <td>...</td>\n",
       "      <td>...</td>\n",
       "      <td>...</td>\n",
       "      <td>...</td>\n",
       "      <td>...</td>\n",
       "      <td>...</td>\n",
       "      <td>...</td>\n",
       "      <td>...</td>\n",
       "      <td>...</td>\n",
       "      <td>...</td>\n",
       "      <td>...</td>\n",
       "      <td>...</td>\n",
       "      <td>...</td>\n",
       "      <td>...</td>\n",
       "      <td>...</td>\n",
       "      <td>...</td>\n",
       "      <td>...</td>\n",
       "      <td>...</td>\n",
       "    </tr>\n",
       "    <tr>\n",
       "      <th>171072</th>\n",
       "      <td>464003</td>\n",
       "      <td>10080767</td>\n",
       "      <td>11932249</td>\n",
       "      <td>3650</td>\n",
       "      <td>3650</td>\n",
       "      <td>3650.0</td>\n",
       "      <td>36 months</td>\n",
       "      <td>16.24</td>\n",
       "      <td>128.76</td>\n",
       "      <td>C</td>\n",
       "      <td>...</td>\n",
       "      <td>NaN</td>\n",
       "      <td>NaN</td>\n",
       "      <td>NaN</td>\n",
       "      <td>NaN</td>\n",
       "      <td>NaN</td>\n",
       "      <td>NaN</td>\n",
       "      <td>36</td>\n",
       "      <td>2068-01-01</td>\n",
       "      <td>-16437 days</td>\n",
       "      <td>-540.0</td>\n",
       "    </tr>\n",
       "    <tr>\n",
       "      <th>171329</th>\n",
       "      <td>464260</td>\n",
       "      <td>10106909</td>\n",
       "      <td>11958941</td>\n",
       "      <td>22500</td>\n",
       "      <td>22500</td>\n",
       "      <td>22500.0</td>\n",
       "      <td>36 months</td>\n",
       "      <td>6.62</td>\n",
       "      <td>690.84</td>\n",
       "      <td>A</td>\n",
       "      <td>...</td>\n",
       "      <td>NaN</td>\n",
       "      <td>NaN</td>\n",
       "      <td>NaN</td>\n",
       "      <td>NaN</td>\n",
       "      <td>NaN</td>\n",
       "      <td>4.0</td>\n",
       "      <td>36</td>\n",
       "      <td>2066-07-01</td>\n",
       "      <td>-15888 days</td>\n",
       "      <td>-522.0</td>\n",
       "    </tr>\n",
       "    <tr>\n",
       "      <th>172169</th>\n",
       "      <td>465100</td>\n",
       "      <td>10109870</td>\n",
       "      <td>11961435</td>\n",
       "      <td>14000</td>\n",
       "      <td>14000</td>\n",
       "      <td>13850.0</td>\n",
       "      <td>36 months</td>\n",
       "      <td>9.67</td>\n",
       "      <td>449.58</td>\n",
       "      <td>B</td>\n",
       "      <td>...</td>\n",
       "      <td>NaN</td>\n",
       "      <td>NaN</td>\n",
       "      <td>NaN</td>\n",
       "      <td>NaN</td>\n",
       "      <td>NaN</td>\n",
       "      <td>7.0</td>\n",
       "      <td>36</td>\n",
       "      <td>2067-10-01</td>\n",
       "      <td>-16345 days</td>\n",
       "      <td>-537.0</td>\n",
       "    </tr>\n",
       "    <tr>\n",
       "      <th>172569</th>\n",
       "      <td>465500</td>\n",
       "      <td>10099451</td>\n",
       "      <td>11951054</td>\n",
       "      <td>2500</td>\n",
       "      <td>2500</td>\n",
       "      <td>2500.0</td>\n",
       "      <td>36 months</td>\n",
       "      <td>19.22</td>\n",
       "      <td>91.92</td>\n",
       "      <td>D</td>\n",
       "      <td>...</td>\n",
       "      <td>NaN</td>\n",
       "      <td>NaN</td>\n",
       "      <td>NaN</td>\n",
       "      <td>NaN</td>\n",
       "      <td>NaN</td>\n",
       "      <td>NaN</td>\n",
       "      <td>36</td>\n",
       "      <td>2067-09-01</td>\n",
       "      <td>-16315 days</td>\n",
       "      <td>-536.0</td>\n",
       "    </tr>\n",
       "    <tr>\n",
       "      <th>172724</th>\n",
       "      <td>465655</td>\n",
       "      <td>10088416</td>\n",
       "      <td>11940047</td>\n",
       "      <td>21000</td>\n",
       "      <td>21000</td>\n",
       "      <td>20950.0</td>\n",
       "      <td>36 months</td>\n",
       "      <td>9.67</td>\n",
       "      <td>674.37</td>\n",
       "      <td>B</td>\n",
       "      <td>...</td>\n",
       "      <td>NaN</td>\n",
       "      <td>NaN</td>\n",
       "      <td>NaN</td>\n",
       "      <td>NaN</td>\n",
       "      <td>NaN</td>\n",
       "      <td>10.0</td>\n",
       "      <td>36</td>\n",
       "      <td>2056-01-01</td>\n",
       "      <td>-12054 days</td>\n",
       "      <td>-396.0</td>\n",
       "    </tr>\n",
       "  </tbody>\n",
       "</table>\n",
       "<p>1169 rows × 80 columns</p>\n",
       "</div>"
      ],
      "text/plain": [
       "        Unnamed: 0        id  member_id  loan_amnt  funded_amnt  \\\n",
       "1580          1580   1048395    1279722      21000        21000   \n",
       "1770          1770   1042802    1272895       5500         5500   \n",
       "2799          2799   1031659    1249389       5200         5200   \n",
       "3282          3282   1021976    1250746       5000         5000   \n",
       "3359          3359   1013619    1240971      21000        21000   \n",
       "...            ...       ...        ...        ...          ...   \n",
       "171072      464003  10080767   11932249       3650         3650   \n",
       "171329      464260  10106909   11958941      22500        22500   \n",
       "172169      465100  10109870   11961435      14000        14000   \n",
       "172569      465500  10099451   11951054       2500         2500   \n",
       "172724      465655  10088416   11940047      21000        21000   \n",
       "\n",
       "        funded_amnt_inv        term  int_rate  installment grade  ...  \\\n",
       "1580            20875.0   36 months      7.51       653.33     A  ...   \n",
       "1770             5500.0   36 months      7.51       171.11     A  ...   \n",
       "2799             5200.0   60 months      8.90       107.70     A  ...   \n",
       "3282             5000.0   36 months     12.69       167.73     B  ...   \n",
       "3359            21000.0   36 months     12.69       704.45     B  ...   \n",
       "...                 ...         ...       ...          ...   ...  ...   \n",
       "171072           3650.0   36 months     16.24       128.76     C  ...   \n",
       "171329          22500.0   36 months      6.62       690.84     A  ...   \n",
       "172169          13850.0   36 months      9.67       449.58     B  ...   \n",
       "172569           2500.0   36 months     19.22        91.92     D  ...   \n",
       "172724          20950.0   36 months      9.67       674.37     B  ...   \n",
       "\n",
       "       all_util total_rev_hi_lim inq_fi total_cu_tl  inq_last_12m  \\\n",
       "1580        NaN              NaN    NaN         NaN           NaN   \n",
       "1770        NaN              NaN    NaN         NaN           NaN   \n",
       "2799        NaN              NaN    NaN         NaN           NaN   \n",
       "3282        NaN              NaN    NaN         NaN           NaN   \n",
       "3359        NaN              NaN    NaN         NaN           NaN   \n",
       "...         ...              ...    ...         ...           ...   \n",
       "171072      NaN              NaN    NaN         NaN           NaN   \n",
       "171329      NaN              NaN    NaN         NaN           NaN   \n",
       "172169      NaN              NaN    NaN         NaN           NaN   \n",
       "172569      NaN              NaN    NaN         NaN           NaN   \n",
       "172724      NaN              NaN    NaN         NaN           NaN   \n",
       "\n",
       "       emp_length_int term_int earliest_date days_passed month_passed  \n",
       "1580              NaN       36    2062-09-01 -14489 days       -476.0  \n",
       "1770              4.0       36    2068-09-01 -16681 days       -548.0  \n",
       "2799              NaN       60    2064-09-01 -15220 days       -500.0  \n",
       "3282             10.0       36    2067-09-01 -16315 days       -536.0  \n",
       "3359             10.0       36    2065-02-01 -15373 days       -505.0  \n",
       "...               ...      ...           ...         ...          ...  \n",
       "171072            NaN       36    2068-01-01 -16437 days       -540.0  \n",
       "171329            4.0       36    2066-07-01 -15888 days       -522.0  \n",
       "172169            7.0       36    2067-10-01 -16345 days       -537.0  \n",
       "172569            NaN       36    2067-09-01 -16315 days       -536.0  \n",
       "172724           10.0       36    2056-01-01 -12054 days       -396.0  \n",
       "\n",
       "[1169 rows x 80 columns]"
      ]
     },
     "execution_count": 15,
     "metadata": {},
     "output_type": "execute_result"
    }
   ],
   "source": [
    "# time since the credit issued can not be negative, so, let's check what is happening there\n",
    "loan_data[loan_data['month_passed'] < 0]"
   ]
  },
  {
   "attachments": {},
   "cell_type": "markdown",
   "metadata": {},
   "source": [
    "In the above specification, we can see that we have measurement error in years. To be precise, earliest date the credit line issued is stated with future dates, such as '2065-05-27', which is obviously not the case. Since our data is rich enough, we will not investigate the causes of this error, and drop the values with month_passed being negative. This way, we can get rid of credits issued later than the real time. "
   ]
  },
  {
   "cell_type": "code",
   "execution_count": 18,
   "metadata": {},
   "outputs": [
    {
     "data": {
      "text/plain": [
       "count                          462990\n",
       "mean     9207 days 14:02:01.018596608\n",
       "std      2581 days 22:41:28.854499488\n",
       "min                4078 days 00:00:00\n",
       "25%                7426 days 00:00:00\n",
       "50%                8706 days 00:00:00\n",
       "75%               10532 days 00:00:00\n",
       "max               19722 days 00:00:00\n",
       "Name: days_passed, dtype: object"
      ]
     },
     "execution_count": 18,
     "metadata": {},
     "output_type": "execute_result"
    }
   ],
   "source": [
    "#the following \n",
    "loan_data.drop(loan_data[loan_data['month_passed'] < 0].index, inplace=True)\n",
    "loan_data['month_passed'].describe()\n",
    "#\n"
   ]
  },
  {
   "cell_type": "code",
   "execution_count": null,
   "metadata": {},
   "outputs": [],
   "source": [
    "# run the same procedure for term and issue_date variables\n",
    "\n",
    "loan_data['earliest_date'] = pd.to_datetime(loan_data['earliest_cr_line'], format = \"%b-%y\")\n",
    "loan_data['days_passed'] = pd.to_datetime('2022-12-31') - loan_data['earliest_date']\n",
    "loan_data['month_passed'] = round(pd.to_numeric((pd.to_datetime('2022-12-31')-loan_data['earliest_date'])/np.timedelta64(1, 'M')))\n",
    "loan_data['month_passed'].describe()"
   ]
  },
  {
   "cell_type": "code",
   "execution_count": 33,
   "metadata": {},
   "outputs": [],
   "source": [
    "type(loan_data['term'])\n",
    "loan_data['term_int'] = pd.to_numeric(loan_data['term'].str.replace(' months', ''))\n",
    "term_dummies = pd.get_dummies(loan_data['term_int'], prefix='term')\n",
    "loan_data = pd.concat([loan_data, term_dummies], axis=1)\n",
    "\n"
   ]
  },
  {
   "attachments": {},
   "cell_type": "markdown",
   "metadata": {},
   "source": [
    "Since the term variable has only two inputs (36 and 60) representing months, we can confidently consider this as categorical variables. get_dummies command is creating two dummy variables. term_36 is equal to 1, when term is equal to 36 month, and 0 otherwise. The same definition is valid for term_60 variable as well. "
   ]
  },
  {
   "cell_type": "code",
   "execution_count": 37,
   "metadata": {},
   "outputs": [
    {
     "data": {
      "text/plain": [
       "count    466281.000000\n",
       "mean        112.255267\n",
       "std          14.340190\n",
       "min          97.000000\n",
       "25%         102.000000\n",
       "50%         108.000000\n",
       "75%         118.000000\n",
       "max         187.000000\n",
       "Name: months_issue_d, dtype: float64"
      ]
     },
     "execution_count": 37,
     "metadata": {},
     "output_type": "execute_result"
    }
   ],
   "source": [
    "# calculate the issue date from end of 2022\n",
    "\n",
    "loan_data['issue_d_date'] = pd.to_datetime(loan_data['issue_d'], format = '%b-%y')\n",
    "loan_data['months_issue_d'] = round(pd.to_numeric((pd.to_datetime('2022-12-31') - loan_data['issue_d_date']) / np.timedelta64(1, 'M')))\n",
    "loan_data['months_issue_d'].describe()\n",
    "\n",
    "# the minimum of the months issued seems quite reasonable, therefore, we do not need to further make changes in this variable\n"
   ]
  },
  {
   "cell_type": "code",
   "execution_count": null,
   "metadata": {},
   "outputs": [],
   "source": [
    "loan_data['']"
   ]
  },
  {
   "attachments": {},
   "cell_type": "markdown",
   "metadata": {},
   "source": [
    "## Preprocessing some discrete variables "
   ]
  },
  {
   "cell_type": "code",
   "execution_count": 42,
   "metadata": {},
   "outputs": [],
   "source": [
    "# create dummy variables for gender of the clients\n",
    "all_dummies = [ pd.get_dummies(loan_data['grade'], prefix = 'grade'),\n",
    "                pd.get_dummies(loan_data['sub_grade'], prefix = 'sub_grade'),\n",
    "                pd.get_dummies(loan_data['home_ownership'], prefix= 'home_ownership'),\n",
    "                pd.get_dummies(loan_data['verification_status'], prefix = 'verif_status'),\n",
    "                pd.get_dummies(loan_data['loan_status'], prefix = 'loan_status'),\n",
    "                pd.get_dummies(loan_data['purpose'], prefix = 'purpose'),\n",
    "                pd.get_dummies(loan_data['addr_state'], prefix = 'addr_state'),\n",
    "                pd.get_dummies(loan_data['initial_list_status'], prefix = 'initial_list_status')]\n",
    "all_dummies = pd.concat(all_dummies, axis=1)\n",
    "\n",
    "# concatenate the new dummy variables to the main dataset\n",
    "loan_data = pd.concat([loan_data, all_dummies], axis=1)\n",
    "\n"
   ]
  },
  {
   "attachments": {},
   "cell_type": "markdown",
   "metadata": {},
   "source": [
    "This step creates dummy variables for mentioned categorical variables, such as gender, loan or verification status, or home ownership. In further modeling, these variables are treated separately. In other words, type of the ownership the client has in terms of housing could be rent, mortgage or his/her own, and these dummy variables help us estimate each of these home ownership impacts on credit risk. "
   ]
  },
  {
   "cell_type": "code",
   "execution_count": null,
   "metadata": {},
   "outputs": [],
   "source": []
  },
  {
   "cell_type": "code",
   "execution_count": null,
   "metadata": {},
   "outputs": [],
   "source": []
  }
 ],
 "metadata": {
  "kernelspec": {
   "display_name": "Python 3",
   "language": "python",
   "name": "python3"
  },
  "language_info": {
   "codemirror_mode": {
    "name": "ipython",
    "version": 3
   },
   "file_extension": ".py",
   "mimetype": "text/x-python",
   "name": "python",
   "nbconvert_exporter": "python",
   "pygments_lexer": "ipython3",
   "version": "3.10.8"
  },
  "orig_nbformat": 4,
  "vscode": {
   "interpreter": {
    "hash": "fb4569285eef3a3450cb62085a5b1e0da4bce0af555edc33dcf29baf3acc1368"
   }
  }
 },
 "nbformat": 4,
 "nbformat_minor": 2
}
