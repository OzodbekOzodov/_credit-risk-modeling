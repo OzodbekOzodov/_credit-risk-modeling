{
 "cells": [
  {
   "attachments": {},
   "cell_type": "markdown",
   "metadata": {},
   "source": [
    "# Credit Risk Modeling Using Python\n",
    "## Based on online course from 365DataScience"
   ]
  },
  {
   "cell_type": "code",
   "execution_count": 1,
   "metadata": {},
   "outputs": [],
   "source": [
    "#import relevant libraries\n",
    "\n",
    "import sklearn\n",
    "import pandas as pd\n",
    "import numpy as np\n",
    "import seaborn as sns\n",
    "import matplotlib.pyplot as plt\n",
    "import os "
   ]
  },
  {
   "cell_type": "code",
   "execution_count": null,
   "metadata": {},
   "outputs": [],
   "source": [
    "#specify dtypes for each column to keep memory usage low\n",
    "column_types = {\n",
    "\n",
    "    \n",
    "}"
   ]
  },
  {
   "cell_type": "code",
   "execution_count": 9,
   "metadata": {},
   "outputs": [],
   "source": [
    "#import the datasets\n",
    "\n",
    "#first dataset contains the backup storage for the data, this will not be changed throughout the project, but only kept as backup in case of errors\n",
    "loan_data1 = pd.read_csv(\"data/3.1 loan_data_2007_2014 - 1.csv\")\n",
    "\n"
   ]
  },
  {
   "cell_type": "code",
   "execution_count": 7,
   "metadata": {},
   "outputs": [
    {
     "name": "stderr",
     "output_type": "stream",
     "text": [
      "C:\\Users\\user\\AppData\\Local\\Temp\\ipykernel_16672\\2830868825.py:1: DtypeWarning: Columns (20) have mixed types. Specify dtype option on import or set low_memory=False.\n",
      "  loan_data2 = pd.read_csv(\"data/3.1 loan_data_2007_2014 - 2.csv\")\n"
     ]
    }
   ],
   "source": [
    "loan_data2 = pd.read_csv(\"data/3.1 loan_data_2007_2014 - 2.csv\")\n"
   ]
  },
  {
   "cell_type": "code",
   "execution_count": 16,
   "metadata": {},
   "outputs": [
    {
     "name": "stderr",
     "output_type": "stream",
     "text": [
      "C:\\Users\\user\\AppData\\Local\\Temp\\ipykernel_16672\\3320454629.py:1: DtypeWarning: Columns (20) have mixed types. Specify dtype option on import or set low_memory=False.\n",
      "  loan_data3 = pd.read_csv(\"data/3.1 loan_data_2007_2014 - 3.csv\",encoding = 'unicode_escape')\n"
     ]
    }
   ],
   "source": [
    "loan_data3 = pd.read_csv(\"data/3.1 loan_data_2007_2014 - 3.csv\",encoding = 'unicode_escape')"
   ]
  },
  {
   "cell_type": "code",
   "execution_count": 17,
   "metadata": {},
   "outputs": [],
   "source": [
    "# concatenate these three files to one \n",
    "loan_data = pd.concat([loan_data1, loan_data2, loan_data3])"
   ]
  },
  {
   "cell_type": "code",
   "execution_count": 19,
   "metadata": {},
   "outputs": [
    {
     "name": "stdout",
     "output_type": "stream",
     "text": [
      "<class 'pandas.core.frame.DataFrame'>\n",
      "Int64Index: 466281 entries, 0 to 173353\n",
      "Data columns (total 75 columns):\n",
      " #   Column                       Non-Null Count   Dtype  \n",
      "---  ------                       --------------   -----  \n",
      " 0   Unnamed: 0                   466281 non-null  int64  \n",
      " 1   id                           466281 non-null  int64  \n",
      " 2   member_id                    466281 non-null  int64  \n",
      " 3   loan_amnt                    466281 non-null  int64  \n",
      " 4   funded_amnt                  466281 non-null  int64  \n",
      " 5   funded_amnt_inv              466281 non-null  float64\n",
      " 6   term                         466281 non-null  object \n",
      " 7   int_rate                     466281 non-null  float64\n",
      " 8   installment                  466281 non-null  float64\n",
      " 9   grade                        466281 non-null  object \n",
      " 10  sub_grade                    466281 non-null  object \n",
      " 11  emp_title                    438693 non-null  object \n",
      " 12  emp_length                   445273 non-null  object \n",
      " 13  home_ownership               466281 non-null  object \n",
      " 14  annual_inc                   466277 non-null  float64\n",
      " 15  verification_status          466281 non-null  object \n",
      " 16  issue_d                      466281 non-null  object \n",
      " 17  loan_status                  466281 non-null  object \n",
      " 18  pymnt_plan                   466281 non-null  object \n",
      " 19  url                          466281 non-null  object \n",
      " 20  desc                         125983 non-null  object \n",
      " 21  purpose                      466281 non-null  object \n",
      " 22  title                        466261 non-null  object \n",
      " 23  zip_code                     466281 non-null  object \n",
      " 24  addr_state                   466281 non-null  object \n",
      " 25  dti                          466281 non-null  float64\n",
      " 26  delinq_2yrs                  466252 non-null  float64\n",
      " 27  earliest_cr_line             466252 non-null  object \n",
      " 28  inq_last_6mths               466252 non-null  float64\n",
      " 29  mths_since_last_delinq       215932 non-null  float64\n",
      " 30  mths_since_last_record       62638 non-null   float64\n",
      " 31  open_acc                     466252 non-null  float64\n",
      " 32  pub_rec                      466252 non-null  float64\n",
      " 33  revol_bal                    466281 non-null  int64  \n",
      " 34  revol_util                   465941 non-null  float64\n",
      " 35  total_acc                    466252 non-null  float64\n",
      " 36  initial_list_status          466281 non-null  object \n",
      " 37  out_prncp                    466281 non-null  float64\n",
      " 38  out_prncp_inv                466281 non-null  float64\n",
      " 39  total_pymnt                  466281 non-null  float64\n",
      " 40  total_pymnt_inv              466281 non-null  float64\n",
      " 41  total_rec_prncp              466281 non-null  float64\n",
      " 42  total_rec_int                466281 non-null  float64\n",
      " 43  total_rec_late_fee           466281 non-null  float64\n",
      " 44  recoveries                   466281 non-null  float64\n",
      " 45  collection_recovery_fee      466281 non-null  float64\n",
      " 46  last_pymnt_d                 465905 non-null  object \n",
      " 47  last_pymnt_amnt              466281 non-null  float64\n",
      " 48  next_pymnt_d                 239069 non-null  object \n",
      " 49  last_credit_pull_d           466239 non-null  object \n",
      " 50  collections_12_mths_ex_med   466136 non-null  float64\n",
      " 51  mths_since_last_major_derog  98974 non-null   float64\n",
      " 52  policy_code                  466281 non-null  int64  \n",
      " 53  application_type             466281 non-null  object \n",
      " 54  annual_inc_joint             0 non-null       float64\n",
      " 55  dti_joint                    0 non-null       float64\n",
      " 56  verification_status_joint    0 non-null       float64\n",
      " 57  acc_now_delinq               466252 non-null  float64\n",
      " 58  tot_coll_amt                 396005 non-null  float64\n",
      " 59  tot_cur_bal                  396005 non-null  float64\n",
      " 60  open_acc_6m                  0 non-null       float64\n",
      " 61  open_il_6m                   0 non-null       float64\n",
      " 62  open_il_12m                  0 non-null       float64\n",
      " 63  open_il_24m                  0 non-null       float64\n",
      " 64  mths_since_rcnt_il           0 non-null       float64\n",
      " 65  total_bal_il                 0 non-null       float64\n",
      " 66  il_util                      0 non-null       float64\n",
      " 67  open_rv_12m                  0 non-null       float64\n",
      " 68  open_rv_24m                  0 non-null       float64\n",
      " 69  max_bal_bc                   0 non-null       float64\n",
      " 70  all_util                     0 non-null       float64\n",
      " 71  total_rev_hi_lim             222651 non-null  float64\n",
      " 72  inq_fi                       0 non-null       float64\n",
      " 73  total_cu_tl                  0 non-null       float64\n",
      " 74  inq_last_12m                 0 non-null       float64\n",
      "dtypes: float64(46), int64(7), object(22)\n",
      "memory usage: 270.4+ MB\n"
     ]
    }
   ],
   "source": [
    "loan_data\n",
    "loan_data.info()"
   ]
  },
  {
   "cell_type": "code",
   "execution_count": 20,
   "metadata": {},
   "outputs": [
    {
     "name": "stderr",
     "output_type": "stream",
     "text": [
      "C:\\Users\\user\\AppData\\Local\\Temp\\ipykernel_16672\\4143095900.py:5: FutureWarning: The default value of regex will change from True to False in a future version.\n",
      "  loan_data[\"emp_length_int\"] = loan_data[\"emp_length\"].str.replace(\"\\+ years\", '')\n"
     ]
    },
    {
     "data": {
      "text/plain": [
       "pandas.core.series.Series"
      ]
     },
     "execution_count": 20,
     "metadata": {},
     "output_type": "execute_result"
    }
   ],
   "source": [
    "# preprocessing the continuous variables\n",
    "\n",
    "# delete the \"year\" or \"years\" from employement length variable\n",
    "loan_data['emp_length'].unique()\n",
    "loan_data[\"emp_length_int\"] = loan_data[\"emp_length\"].str.replace(\"\\+ years\", '')\n",
    "loan_data['emp_length_int'] = loan_data['emp_length_int'].str.replace('< 1 year', str(0))\n",
    "loan_data['emp_length_int'] = loan_data['emp_length_int'].str.replace('n/a', str(0))\n",
    "loan_data['emp_length_int'] = loan_data['emp_length_int'].str.replace(' years', '')\n",
    "loan_data['emp_length_int'] = loan_data['emp_length_int'].str.replace(' year', '')\n",
    "\n",
    "# transform the string into numeric\n",
    "loan_data[\"emp_length_int\"] = pd.to_numeric(loan_data[\"emp_length_int\"])\n",
    "\n",
    "# double check if the new variable is of a numeric type\n",
    "type(loan_data[\"emp_length_int\"][0])"
   ]
  },
  {
   "cell_type": "code",
   "execution_count": 21,
   "metadata": {},
   "outputs": [
    {
     "data": {
      "text/plain": [
       "array([36, 60], dtype=int64)"
      ]
     },
     "execution_count": 21,
     "metadata": {},
     "output_type": "execute_result"
    }
   ],
   "source": [
    "# transfor the term variable into numeric using the same steps as above\n",
    "loan_data[\"term\"].unique()\n",
    "loan_data[\"term_int\"] = loan_data[\"term\"].str.replace(\" months\", \"\")\n",
    "loan_data[\"term_int\"] = pd.to_numeric(loan_data[\"term_int\"])\n",
    "loan_data[\"term_int\"].unique()"
   ]
  },
  {
   "cell_type": "code",
   "execution_count": null,
   "metadata": {},
   "outputs": [],
   "source": []
  }
 ],
 "metadata": {
  "kernelspec": {
   "display_name": "Python 3",
   "language": "python",
   "name": "python3"
  },
  "language_info": {
   "codemirror_mode": {
    "name": "ipython",
    "version": 3
   },
   "file_extension": ".py",
   "mimetype": "text/x-python",
   "name": "python",
   "nbconvert_exporter": "python",
   "pygments_lexer": "ipython3",
   "version": "3.10.8"
  },
  "orig_nbformat": 4,
  "vscode": {
   "interpreter": {
    "hash": "fb4569285eef3a3450cb62085a5b1e0da4bce0af555edc33dcf29baf3acc1368"
   }
  }
 },
 "nbformat": 4,
 "nbformat_minor": 2
}
